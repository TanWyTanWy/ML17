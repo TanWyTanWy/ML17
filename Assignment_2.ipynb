{
 "cells": [
  {
   "cell_type": "markdown",
   "id": "19544a04-2197-4572-8219-252d721eadd5",
   "metadata": {},
   "source": [
    "1. Length & Breadth of a rectangle "
   ]
  },
  {
   "cell_type": "code",
   "execution_count": 2,
   "id": "ee045dac-cfc1-4f6e-ada1-b4f88715bd3e",
   "metadata": {},
   "outputs": [
    {
     "name": "stdin",
     "output_type": "stream",
     "text": [
      " 65\n",
      " 65\n"
     ]
    },
    {
     "name": "stdout",
     "output_type": "stream",
     "text": [
      "It is a SQUARE\n"
     ]
    }
   ],
   "source": [
    "L = int(input())\n",
    "B = int(input())\n",
    "if L==B:\n",
    "    print('It is a SQUARE')\n",
    "else:\n",
    "    print('It is a RECTANGLE')"
   ]
  },
  {
   "cell_type": "code",
   "execution_count": null,
   "id": "03bffe4d-95ca-4adc-8c98-f74d138f6257",
   "metadata": {},
   "outputs": [],
   "source": []
  }
 ],
 "metadata": {
  "kernelspec": {
   "display_name": "Python 3 (ipykernel)",
   "language": "python",
   "name": "python3"
  },
  "language_info": {
   "codemirror_mode": {
    "name": "ipython",
    "version": 3
   },
   "file_extension": ".py",
   "mimetype": "text/x-python",
   "name": "python",
   "nbconvert_exporter": "python",
   "pygments_lexer": "ipython3",
   "version": "3.11.7"
  }
 },
 "nbformat": 4,
 "nbformat_minor": 5
}
