{
 "cells": [
  {
   "cell_type": "markdown",
   "id": "19544a04-2197-4572-8219-252d721eadd5",
   "metadata": {},
   "source": [
    "1. Length & Breadth of a rectangle "
   ]
  },
  {
   "cell_type": "code",
   "execution_count": 2,
   "id": "ee045dac-cfc1-4f6e-ada1-b4f88715bd3e",
   "metadata": {},
   "outputs": [
    {
     "name": "stdin",
     "output_type": "stream",
     "text": [
      " 65\n",
      " 65\n"
     ]
    },
    {
     "name": "stdout",
     "output_type": "stream",
     "text": [
      "It is a SQUARE\n"
     ]
    }
   ],
   "source": [
    "L = int(input())\n",
    "B = int(input())\n",
    "if L==B:\n",
    "    print('It is a SQUARE')\n",
    "else:\n",
    "    print('It is a RECTANGLE')"
   ]
  },
  {
   "cell_type": "markdown",
   "id": "05f9cde7-0839-4592-bd03-a93c55657895",
   "metadata": {},
   "source": [
    "2.Take three integer values from the user and print the greatest among them.\n"
   ]
  },
  {
   "cell_type": "code",
   "execution_count": 10,
   "id": "67d15f05-1976-44f7-b69e-0f6678af5d1a",
   "metadata": {},
   "outputs": [
    {
     "name": "stdin",
     "output_type": "stream",
     "text": [
      " 7\n",
      " 8\n",
      " 2\n"
     ]
    },
    {
     "name": "stdout",
     "output_type": "stream",
     "text": [
      "8 is greatest\n"
     ]
    }
   ],
   "source": [
    "x = int(input())\n",
    "y = int(input())\n",
    "z = int(input())\n",
    "if x>=y:\n",
    "    if x>=z:\n",
    "        print(x,'is greatest')\n",
    "    else:\n",
    "        print(z,'is greatest')\n",
    "elif y>=z:\n",
    "    print(y,'is greatest')\n",
    "else:\n",
    "    print(z,'is greatest')"
   ]
  },
  {
   "cell_type": "markdown",
   "id": "d4f36ebe-15d5-48c9-9baf-94dd45c4e95c",
   "metadata": {},
   "source": [
    "3. A student will not be allowed to sit in an exam if his/her attendance is less than 75%."
   ]
  },
  {
   "cell_type": "code",
   "execution_count": 16,
   "id": "7934cbab-e78a-43d8-ad5d-e296a7ae57c8",
   "metadata": {},
   "outputs": [
    {
     "name": "stdin",
     "output_type": "stream",
     "text": [
      "enter attendance:  33\n",
      "enter number of classes:  35\n"
     ]
    },
    {
     "name": "stdout",
     "output_type": "stream",
     "text": [
      "student is allowed to sit in the exam\n"
     ]
    }
   ],
   "source": [
    "A = int(input('enter attendance: '))\n",
    "Total_Class = int(input('enter number of classes: '))\n",
    "Attendance = (A/Total_Class)*100 \n",
    "P=75\n",
    "if Attendance>=P:\n",
    "    print('student is allowed to sit in the exam')\n",
    "else:\n",
    "    print('student is not allowed to sit in the exam')"
   ]
  },
  {
   "cell_type": "markdown",
   "id": "c206a98c-115d-41c9-be38-2f279df8b663",
   "metadata": {},
   "source": [
    "4. A school has the following rules for the grading system"
   ]
  },
  {
   "cell_type": "code",
   "execution_count": 21,
   "id": "3d590ebe-fa11-4678-9af6-e9498deef2cb",
   "metadata": {},
   "outputs": [
    {
     "name": "stdin",
     "output_type": "stream",
     "text": [
      "Enter Marks:  95\n"
     ]
    },
    {
     "name": "stdout",
     "output_type": "stream",
     "text": [
      "A+\n"
     ]
    }
   ],
   "source": [
    "M = int(input('Enter Marks: '))\n",
    "if M < 25:\n",
    "    print('F')\n",
    "elif 25<= M < 44:\n",
    "    print('E')\n",
    "elif 45<=M<=49:\n",
    "    print('D')\n",
    "elif 50<=M<=59:\n",
    "    print('C')\n",
    "elif 60<=M<=79:\n",
    "    print('B')\n",
    "elif 80<=M<=89:\n",
    "    print ('A')\n",
    "else:\n",
    "    print('A+')"
   ]
  },
  {
   "cell_type": "markdown",
   "id": "e4642263-2d64-4cb1-ab36-dc8b9ea93d40",
   "metadata": {},
   "source": [
    "5. Print the following pattern using for and while loop."
   ]
  },
  {
   "cell_type": "code",
   "execution_count": 33,
   "id": "a5f92e07-c13c-43dc-a527-70b44656cafd",
   "metadata": {},
   "outputs": [
    {
     "name": "stdout",
     "output_type": "stream",
     "text": [
      "1234567\n",
      "123456\n",
      "12345\n",
      "1234\n"
     ]
    }
   ],
   "source": [
    "for i in range(8,4,-1):\n",
    "    for j in range(1,i):\n",
    "        print(j,end=\"\")\n",
    "    print()"
   ]
  },
  {
   "cell_type": "code",
   "execution_count": 40,
   "id": "7ef66c6b-0486-4fe9-a835-5b34ef804e11",
   "metadata": {},
   "outputs": [
    {
     "name": "stdout",
     "output_type": "stream",
     "text": [
      "(1, 7)(1, 6)(1, 5)(1, 4)"
     ]
    }
   ],
   "source": [
    "i = 7\n",
    "while i>=4:\n",
    "    j=(1,i)   \n",
    "    print(j,end=\"\")\n",
    "    i-=1"
   ]
  },
  {
   "cell_type": "markdown",
   "id": "39f36911-072c-41c7-b13f-d2492300860a",
   "metadata": {},
   "source": [
    "6.Display numbers from -100 to -10 using for loop"
   ]
  },
  {
   "cell_type": "code",
   "execution_count": 1,
   "id": "29e8b250-2f3e-4b96-890f-74851ad53006",
   "metadata": {},
   "outputs": [
    {
     "name": "stdout",
     "output_type": "stream",
     "text": [
      "-100-99-98-97-96-95-94-93-92-91-90-89-88-87-86-85-84-83-82-81-80-79-78-77-76-75-74-73-72-71-70-69-68-67-66-65-64-63-62-61-60-59-58-57-56-55-54-53-52-51-50-49-48-47-46-45-44-43-42-41-40-39-38-37-36-35-34-33-32-31-30-29-28-27-26-25-24-23-22-21-20-19-18-17-16-15-14-13-12-11-10"
     ]
    }
   ],
   "source": [
    "for num in range(-100,-9):\n",
    "    print(num, end=\"\")"
   ]
  },
  {
   "cell_type": "markdown",
   "id": "96f72c8c-847f-4ee4-8e0e-52592c2c5b7d",
   "metadata": {},
   "source": [
    "7. Write a program to sum all prime numbers within a range of 10 to 1000."
   ]
  },
  {
   "cell_type": "code",
   "execution_count": 1,
   "id": "f65b7e7b-c2a9-4b23-9f9b-b2182cafee4e",
   "metadata": {},
   "outputs": [
    {
     "name": "stdout",
     "output_type": "stream",
     "text": [
      "Sum of Prime Numbers: 76110\n"
     ]
    }
   ],
   "source": [
    "def is_prime(num):\n",
    "    if num <= 1:\n",
    "        return False\n",
    "    for i in range(2,int(num**0.5)+1):\n",
    "            if num % i ==  0:\n",
    "                return False\n",
    "    return True\n",
    "\n",
    "def sum_prime(start,end):\n",
    "    prime_sum = 0\n",
    "    for num in range(start,end+1):\n",
    "        if is_prime(num):\n",
    "            prime_sum += num\n",
    "    return prime_sum\n",
    "\n",
    "start_range = 10\n",
    "end_range = 1000\n",
    "result = sum_prime(start_range,end_range)\n",
    "print(\"Sum of Prime Numbers:\", result)"
   ]
  },
  {
   "cell_type": "markdown",
   "id": "72a1cb4e-3c60-46af-b0b3-b1d25855acbd",
   "metadata": {},
   "source": [
    "8. Find the factorial of an n! (Hint, n=7: 7*6*5*4*3*2*1)."
   ]
  },
  {
   "cell_type": "code",
   "execution_count": 6,
   "id": "df23fc93-e427-450d-8604-3eb4de2b6f2e",
   "metadata": {},
   "outputs": [
    {
     "name": "stdin",
     "output_type": "stream",
     "text": [
      "Enter an integer number :  10\n"
     ]
    },
    {
     "name": "stdout",
     "output_type": "stream",
     "text": [
      "The factorial of 10 is 3628800\n"
     ]
    }
   ],
   "source": [
    "import math\n",
    "n = int( input('Enter an integer number : ' ))\n",
    "F = math.factorial(n)\n",
    "\n",
    "print(\"The factorial of\", n, \"is\", F)\n"
   ]
  },
  {
   "cell_type": "markdown",
   "id": "56196287-346c-4416-902d-224217743034",
   "metadata": {},
   "source": [
    "9. Reverse a given integer number 27956240710."
   ]
  },
  {
   "cell_type": "code",
   "execution_count": null,
   "id": "1a7c1079-4594-4a59-807e-2dd95a7911d5",
   "metadata": {},
   "outputs": [],
   "source": [
    "x = int(27956240710)\n",
    "Rev_number = 0\n",
    "\n",
    "while (x>0):\n",
    "    remainder = x % 10\n",
    "    Rev_number=(Rev_number*10)+remainder\n",
    "    n=n//10\n",
    "    print (\"The reverse number is:{}\".format(Rev_number))\n",
    "    \n"
   ]
  },
  {
   "cell_type": "markdown",
   "id": "b44e70a1-a716-455e-8b8f-90f157da4d97",
   "metadata": {},
   "source": [
    "10. Print the following pattern using for and while loop."
   ]
  },
  {
   "cell_type": "code",
   "execution_count": 4,
   "id": "849f2110-ef16-4f6c-babb-235ac43a5437",
   "metadata": {},
   "outputs": [
    {
     "name": "stdout",
     "output_type": "stream",
     "text": [
      "###\n",
      "######\n",
      "#########\n",
      "############\n",
      "###############\n"
     ]
    }
   ],
   "source": [
    "n = 5\n",
    "for i in range(0,n):\n",
    "    for j in range(0,i+1):\n",
    "        print(\"###\",end=\"\")\n",
    "    print()\n"
   ]
  },
  {
   "cell_type": "markdown",
   "id": "f37712f5-695a-4c44-97c2-d6dd4dcdbb20",
   "metadata": {},
   "source": [
    "11. Display the Fibonacci series of 15 elements using the for and while loop."
   ]
  },
  {
   "cell_type": "code",
   "execution_count": 5,
   "id": "f1ae45d6-84c3-4906-8418-c51c7f5959e0",
   "metadata": {},
   "outputs": [
    {
     "name": "stdout",
     "output_type": "stream",
     "text": [
      "1 \n",
      "2 \n",
      "3 \n",
      "5 \n",
      "8 \n",
      "13 \n",
      "21 \n",
      "34 \n",
      "55 \n",
      "89 \n",
      "144 \n",
      "233 \n",
      "377 \n",
      "610 \n",
      "987 \n"
     ]
    }
   ],
   "source": [
    "n = 15\n",
    "num1 = 0\n",
    "num2 = 1\n",
    "next_number = num2\n",
    "count = 1\n",
    "\n",
    "while count<= n:\n",
    "    print (next_number, end=\" \")\n",
    "    count+=1\n",
    "    num1,num2 = num2,next_number\n",
    "    next_number = num1 + num2\n",
    "    print ()"
   ]
  },
  {
   "cell_type": "markdown",
   "id": "f13d6fd2-1879-4f2d-958a-7ee50393a139",
   "metadata": {},
   "source": [
    "12. Remove 2 and add 3 to the list and replace True with False.\n",
    "Li = [1,3,5, [2,3], True]\n",
    "Output = [1,3,5, [3,3], False]"
   ]
  },
  {
   "cell_type": "code",
   "execution_count": 32,
   "id": "680ee1d8-9313-4135-a2d1-d3fc5cf456ef",
   "metadata": {},
   "outputs": [],
   "source": [
    "Li=[1,3,5,[2,3],'True']\n",
    "\n",
    "Li.insert(4,False)\n",
    "Li.remove('True')"
   ]
  },
  {
   "cell_type": "code",
   "execution_count": 33,
   "id": "0f829dfe-7618-4d70-9815-a10938ea6b5d",
   "metadata": {},
   "outputs": [
    {
     "data": {
      "text/plain": [
       "[1, 3, 5, [2, 3], False]"
      ]
     },
     "execution_count": 33,
     "metadata": {},
     "output_type": "execute_result"
    }
   ],
   "source": [
    "Li"
   ]
  },
  {
   "cell_type": "markdown",
   "id": "054141d0-039e-4d86-be48-1ff010c5f60f",
   "metadata": {},
   "source": [
    "13. Find the intersection (common) of two sets."
   ]
  },
  {
   "cell_type": "code",
   "execution_count": 5,
   "id": "ffe75919-27b7-480e-b266-d9fc2e5a1583",
   "metadata": {},
   "outputs": [
    {
     "data": {
      "text/plain": [
       "{1}"
      ]
     },
     "execution_count": 5,
     "metadata": {},
     "output_type": "execute_result"
    }
   ],
   "source": [
    "s1={1,4,6,8}\n",
    "s2={'True',1,2,10}\n",
    "s1.intersection(s2)"
   ]
  },
  {
   "cell_type": "markdown",
   "id": "9130b410-770e-4250-ae9b-1423584d91da",
   "metadata": {},
   "source": [
    "14. Input a list from the user then Remove duplicates from a list and create a set and find the max number. User_input = [1,9,3,4,5,200,54]"
   ]
  },
  {
   "cell_type": "code",
   "execution_count": null,
   "id": "ef950cfc-5ca1-482a-add3-132fe879374c",
   "metadata": {},
   "outputs": [],
   "source": [
    "lst = []\n"
   ]
  },
  {
   "cell_type": "code",
   "execution_count": null,
   "id": "a42f3240-333c-4c7d-830a-98c5d8f5159a",
   "metadata": {},
   "outputs": [],
   "source": []
  }
 ],
 "metadata": {
  "kernelspec": {
   "display_name": "Python 3 (ipykernel)",
   "language": "python",
   "name": "python3"
  },
  "language_info": {
   "codemirror_mode": {
    "name": "ipython",
    "version": 3
   },
   "file_extension": ".py",
   "mimetype": "text/x-python",
   "name": "python",
   "nbconvert_exporter": "python",
   "pygments_lexer": "ipython3",
   "version": "3.11.7"
  }
 },
 "nbformat": 4,
 "nbformat_minor": 5
}
