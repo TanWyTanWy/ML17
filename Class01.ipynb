{
 "cells": [
  {
   "cell_type": "code",
   "execution_count": 2,
   "id": "3dbb32f8-c0a6-4192-8a84-98dcdd59b703",
   "metadata": {},
   "outputs": [
    {
     "name": "stdout",
     "output_type": "stream",
     "text": [
      "hello World||hello World\n"
     ]
    }
   ],
   "source": [
    "print('hello World', end='||')\n",
    "print('hello World')"
   ]
  },
  {
   "cell_type": "code",
   "execution_count": 1,
   "id": "819a0e20-3c48-4c78-91e6-ee44c722994c",
   "metadata": {},
   "outputs": [
    {
     "name": "stdin",
     "output_type": "stream",
     "text": [
      " 55\n"
     ]
    },
    {
     "data": {
      "text/plain": [
       "'55'"
      ]
     },
     "execution_count": 1,
     "metadata": {},
     "output_type": "execute_result"
    }
   ],
   "source": [
    "input()"
   ]
  },
  {
   "cell_type": "code",
   "execution_count": 2,
   "id": "94f5ed20-0611-4229-82f2-b4a044454b78",
   "metadata": {},
   "outputs": [
    {
     "name": "stdin",
     "output_type": "stream",
     "text": [
      " 10\n",
      " 20\n"
     ]
    }
   ],
   "source": [
    "x= input()\n",
    "y= input()"
   ]
  },
  {
   "cell_type": "code",
   "execution_count": 5,
   "id": "c8abc85f-f54f-4210-ac99-ab413dd33788",
   "metadata": {},
   "outputs": [
    {
     "data": {
      "text/plain": [
       "'220'"
      ]
     },
     "execution_count": 5,
     "metadata": {},
     "output_type": "execute_result"
    }
   ],
   "source": [
    "x + y"
   ]
  },
  {
   "cell_type": "code",
   "execution_count": 6,
   "id": "299ef2ab-0f9c-475b-baf2-6d25f370270b",
   "metadata": {},
   "outputs": [
    {
     "name": "stdin",
     "output_type": "stream",
     "text": [
      " 10\n",
      " 20\n"
     ]
    }
   ],
   "source": [
    "x = input()\n",
    "y = input()"
   ]
  },
  {
   "cell_type": "code",
   "execution_count": 7,
   "id": "a4736efd-61e6-4098-9ea5-1a55b4fdaccb",
   "metadata": {},
   "outputs": [
    {
     "data": {
      "text/plain": [
       "'1020'"
      ]
     },
     "execution_count": 7,
     "metadata": {},
     "output_type": "execute_result"
    }
   ],
   "source": [
    "x+y"
   ]
  },
  {
   "cell_type": "code",
   "execution_count": 8,
   "id": "8a3d32a8-f33b-40dc-8ec4-c5d0d9370478",
   "metadata": {},
   "outputs": [
    {
     "name": "stdin",
     "output_type": "stream",
     "text": [
      " 10\n",
      " 20\n"
     ]
    }
   ],
   "source": [
    "x = int(input())\n",
    "y = int(input())"
   ]
  },
  {
   "cell_type": "code",
   "execution_count": 9,
   "id": "9720ecef-2697-4916-b7c8-afe91e609fd2",
   "metadata": {},
   "outputs": [
    {
     "data": {
      "text/plain": [
       "30"
      ]
     },
     "execution_count": 9,
     "metadata": {},
     "output_type": "execute_result"
    }
   ],
   "source": [
    "x+y"
   ]
  },
  {
   "cell_type": "code",
   "execution_count": 1,
   "id": "be95f5b5-cf65-4cdc-b937-7771237b4951",
   "metadata": {},
   "outputs": [
    {
     "data": {
      "text/plain": [
       "100"
      ]
     },
     "execution_count": 1,
     "metadata": {},
     "output_type": "execute_result"
    }
   ],
   "source": [
    "var = 100\n",
    "var"
   ]
  },
  {
   "cell_type": "code",
   "execution_count": 2,
   "id": "2589de41-b4eb-4098-8c57-d420d1510b2a",
   "metadata": {},
   "outputs": [
    {
     "data": {
      "text/plain": [
       "100"
      ]
     },
     "execution_count": 2,
     "metadata": {},
     "output_type": "execute_result"
    }
   ],
   "source": [
    "var"
   ]
  },
  {
   "cell_type": "code",
   "execution_count": 7,
   "id": "23ce2428-3191-4aaa-9455-da2ae7090896",
   "metadata": {},
   "outputs": [],
   "source": [
    "a=45\n",
    "b= 5\n",
    "def func():\n",
    "    print(a+b)   "
   ]
  },
  {
   "cell_type": "code",
   "execution_count": 5,
   "id": "bc3827d3-d301-45e7-aa83-885729deff05",
   "metadata": {},
   "outputs": [
    {
     "name": "stdout",
     "output_type": "stream",
     "text": [
      "50\n"
     ]
    }
   ],
   "source": [
    "func()"
   ]
  },
  {
   "cell_type": "code",
   "execution_count": 8,
   "id": "e67cd341-5e52-44c9-978e-00ae415f7555",
   "metadata": {},
   "outputs": [
    {
     "name": "stdout",
     "output_type": "stream",
     "text": [
      "50\n"
     ]
    }
   ],
   "source": [
    "print(a+b)"
   ]
  },
  {
   "cell_type": "code",
   "execution_count": 9,
   "id": "9b6228a7-5c96-4b37-ab43-86d36553c48e",
   "metadata": {},
   "outputs": [
    {
     "data": {
      "text/plain": [
       "50"
      ]
     },
     "execution_count": 9,
     "metadata": {},
     "output_type": "execute_result"
    }
   ],
   "source": [
    "a+b\n"
   ]
  },
  {
   "cell_type": "code",
   "execution_count": 11,
   "id": "d81a7778-533e-449a-8068-3567934b5682",
   "metadata": {},
   "outputs": [
    {
     "name": "stdin",
     "output_type": "stream",
     "text": [
      " 66\n"
     ]
    },
    {
     "name": "stdout",
     "output_type": "stream",
     "text": [
      "I Have 66 taka\n"
     ]
    }
   ],
   "source": [
    "x=int(input())\n",
    "print( 'I Have {} taka'. format(x))"
   ]
  },
  {
   "cell_type": "code",
   "execution_count": null,
   "id": "059fff38-0ab5-430a-96ec-4135e72b986b",
   "metadata": {},
   "outputs": [],
   "source": []
  }
 ],
 "metadata": {
  "kernelspec": {
   "display_name": "Python 3 (ipykernel)",
   "language": "python",
   "name": "python3"
  },
  "language_info": {
   "codemirror_mode": {
    "name": "ipython",
    "version": 3
   },
   "file_extension": ".py",
   "mimetype": "text/x-python",
   "name": "python",
   "nbconvert_exporter": "python",
   "pygments_lexer": "ipython3",
   "version": "3.11.7"
  }
 },
 "nbformat": 4,
 "nbformat_minor": 5
}
